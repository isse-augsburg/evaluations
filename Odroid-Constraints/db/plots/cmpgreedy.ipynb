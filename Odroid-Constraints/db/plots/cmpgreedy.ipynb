{
 "cells": [
  {
   "cell_type": "code",
   "execution_count": 1,
   "metadata": {
    "collapsed": false
   },
   "outputs": [
    {
     "name": "stdout",
     "output_type": "stream",
     "text": [
      "Populating the interactive namespace from numpy and matplotlib\n"
     ]
    }
   ],
   "source": [
    "import numpy as np\n",
    "%pylab inline"
   ]
  },
  {
   "cell_type": "code",
   "execution_count": 4,
   "metadata": {
    "collapsed": false
   },
   "outputs": [
    {
     "data": {
      "text/plain": [
       "array([(40.0, 482.0, 27749.7333333333, 48.2, 277.497333333333),\n",
       "       (50.0, 441.8, 21523.36, 44.18, 215.2336),\n",
       "       (60.0, 430.2, 28812.4266666667, 43.02, 288.124266666667),\n",
       "       (70.0, 533.666666666667, 31997.1555555556, 53.3666666666667, 319.971555555555),\n",
       "       (80.0, 501.2, 18775.6266666667, 50.12, 187.756266666667),\n",
       "       (90.0, 495.0, 39609.4666666667, 49.5, 396.094666666667)], \n",
       "      dtype=[('nTasks', '<f8'), ('ADiff', '<f8'), ('DiffVar', '<f8'), ('ADiffSeconds', '<f8'), ('DiffSecondsVar', '<f8')])"
      ]
     },
     "execution_count": 4,
     "metadata": {},
     "output_type": "execute_result"
    }
   ],
   "source": [
    "D1 = np.genfromtxt('greedy.csv',delimiter=\";\",names=True)\n",
    "D1"
   ]
  },
  {
   "cell_type": "code",
   "execution_count": 7,
   "metadata": {
    "collapsed": true
   },
   "outputs": [],
   "source": [
    "nTasks = D1['nTasks']\n",
    "aDiff = D1['ADiff']\n",
    "aVar = D1['DiffVar']\n",
    "aStd = np.sqrt(aVar)\n",
    "\n",
    "aDiffSecs = D1['ADiffSeconds']\n",
    "aVarSecs = D1['DiffSecondsVar']\n",
    "aStdSecs = np.sqrt(aVarSecs)"
   ]
  },
  {
   "cell_type": "code",
   "execution_count": 8,
   "metadata": {
    "collapsed": false
   },
   "outputs": [
    {
     "name": "stdout",
     "output_type": "stream",
     "text": [
      "[ 16.65825121  14.67084183  16.9742236   17.88774876  13.70241828\n",
      "  19.90212719]\n"
     ]
    }
   ],
   "source": [
    "print aStdSecs"
   ]
  },
  {
   "cell_type": "code",
   "execution_count": 9,
   "metadata": {
    "collapsed": false
   },
   "outputs": [
    {
     "name": "stdout",
     "output_type": "stream",
     "text": [
      "[ 166.58251209  146.7084183   169.74223595  178.87748756  137.02418278\n",
      "  199.02127189]\n"
     ]
    }
   ],
   "source": [
    "print aStd"
   ]
  },
  {
   "cell_type": "code",
   "execution_count": 10,
   "metadata": {
    "collapsed": false
   },
   "outputs": [
    {
     "name": "stdout",
     "output_type": "stream",
     "text": [
      "[ 482.          441.8         430.2         533.66666667  501.2         495.        ]\n"
     ]
    }
   ],
   "source": [
    "print aDiff "
   ]
  },
  {
   "cell_type": "code",
   "execution_count": 12,
   "metadata": {
    "collapsed": false
   },
   "outputs": [
    {
     "name": "stdout",
     "output_type": "stream",
     "text": [
      "[ 48.2   44.18  43.02  53.37  50.12  49.5 ]\n",
      "[ 16.66  14.67  16.97  17.89  13.7   19.9 ]\n"
     ]
    }
   ],
   "source": [
    "print np.around(aDiffSecs, 2)\n",
    "print np.around(aStdSecs, 2)"
   ]
  },
  {
   "cell_type": "code",
   "execution_count": 19,
   "metadata": {
    "collapsed": false
   },
   "outputs": [
    {
     "name": "stdout",
     "output_type": "stream",
     "text": [
      "40 & 50 & 60 & 70 & 80 & 90\n",
      "48.2 & 44.18 & 43.02 & 53.37 & 50.12 & 49.5\n",
      "16.66 & 14.67 & 16.97 & 17.89 & 13.7 & 19.9\n"
     ]
    }
   ],
   "source": [
    "print \" & \".join(nTasks.astype(int).astype(str))\n",
    "print \" & \".join(np.around(aDiffSecs, 2).astype(str))\n",
    "print \" & \".join(np.around(aStdSecs, 2).astype(str))"
   ]
  },
  {
   "cell_type": "code",
   "execution_count": null,
   "metadata": {
    "collapsed": true
   },
   "outputs": [],
   "source": []
  }
 ],
 "metadata": {
  "kernelspec": {
   "display_name": "Python 2",
   "language": "python",
   "name": "python2"
  },
  "language_info": {
   "codemirror_mode": {
    "name": "ipython",
    "version": 2
   },
   "file_extension": ".py",
   "mimetype": "text/x-python",
   "name": "python",
   "nbconvert_exporter": "python",
   "pygments_lexer": "ipython2",
   "version": "2.7.11"
  }
 },
 "nbformat": 4,
 "nbformat_minor": 0
}
