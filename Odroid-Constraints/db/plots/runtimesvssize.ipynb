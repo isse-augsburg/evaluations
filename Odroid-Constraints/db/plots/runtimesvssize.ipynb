{
 "cells": [
  {
   "cell_type": "code",
   "execution_count": 1,
   "metadata": {
    "collapsed": false
   },
   "outputs": [
    {
     "name": "stdout",
     "output_type": "stream",
     "text": [
      "Populating the interactive namespace from numpy and matplotlib\n"
     ]
    }
   ],
   "source": [
    "import numpy as np\n",
    "# this notebook visualizes growth of runtime vs problem size \n",
    "%pylab inline"
   ]
  },
  {
   "cell_type": "code",
   "execution_count": 2,
   "metadata": {
    "collapsed": false
   },
   "outputs": [],
   "source": [
    "D1 = np.genfromtxt('desktop-times.csv',delimiter=\";\",names=True)\n",
    "nTasks1 = D1['nTasks']\n",
    "meanSecs1 = D1['MeanSecs']\n",
    "varSecs1 = D1['VarSecs']\n",
    "\n",
    "D2 = np.genfromtxt('odroid-times.csv',delimiter=\";\",names=True)\n",
    "nTasks2 = D2['nTasks']\n",
    "meanSecs2 = D2['MeanSecs']\n",
    "varSecs2 = D2['VarSecs']"
   ]
  },
  {
   "cell_type": "code",
   "execution_count": 4,
   "metadata": {
    "collapsed": false
   },
   "outputs": [
    {
     "data": {
      "image/png": "[encoded data removed]",
      "text/plain": [
       "<matplotlib.figure.Figure at 0x7f04ae067550>"
      ]
     },
     "metadata": {},
     "output_type": "display_data"
    }
   ],
   "source": [
    "plt.figure(figsize=(7,3))\n",
    "\n",
    "plot(nTasks1, meanSecs1, 'r.--', markersize=8, label='Desktop (x64)')\n",
    "plot(nTasks2, meanSecs2, 'b.--', markersize=8, label='Odroid (ARM)')\n",
    "xlabel(\"Problem size (# agents)\")\n",
    "ylabel(\"Mean runtime (seconds)\")\n",
    "legend(loc=2)\n",
    "\n",
    "savefig('runtimes.pdf')"
   ]
  },
  {
   "cell_type": "code",
   "execution_count": 11,
   "metadata": {
    "collapsed": false
   },
   "outputs": [
    {
     "data": {
      "text/plain": [
       "array([(10.0, 1.0, 1.0), (20.0, 0.95, 1.0), (30.0, 0.3, 1.0),\n",
       "       (40.0, 0.15, 1.0), (50.0, 0.1, 1.0), (60.0, 0.0, 1.0),\n",
       "       (70.0, 0.0, 1.0)], \n",
       "      dtype=[('ctnTasks', '<f8'), ('ctClosed', '<f8'), ('sssolved', '<f8')])"
      ]
     },
     "execution_count": 11,
     "metadata": {},
     "output_type": "execute_result"
    }
   ],
   "source": [
    "closingDesktop = np.genfromtxt('closing-desktop.csv',delimiter=\";\",names=True)\n",
    "closingOdroid = np.genfromtxt('closing-odroid.csv',delimiter=\";\",names=True)\n",
    "\n"
   ]
  },
  {
   "cell_type": "code",
   "execution_count": 17,
   "metadata": {
    "collapsed": false
   },
   "outputs": [],
   "source": [
    "dtnTasks = closingDesktop['ctnTasks'].astype(int)\n",
    "dtsolved = closingDesktop['sssolved']\n",
    "dtclosed = closingDesktop['ctClosed']\n",
    "\n",
    "odsolved = closingOdroid['sssolved']\n",
    "odclosed = closingOdroid['ctClosed']\n"
   ]
  },
  {
   "cell_type": "code",
   "execution_count": 24,
   "metadata": {
    "collapsed": false,
    "scrolled": true
   },
   "outputs": [
    {
     "name": "stdout",
     "output_type": "stream",
     "text": [
      "10 & 20 & 30 & 40 & 50 & 60 & 70\n",
      "1.0 & 1.0 & 1.0 & 1.0 & 1.0 & 1.0 & 1.0\n",
      "1.0 & 0.95 & 0.3 & 0.15 & 0.1 & 0.0 & 0.0\n"
     ]
    }
   ],
   "source": [
    "print \" & \".join(dtnTasks.astype(str))\n",
    "print \" & \".join(dtsolved.astype(str))\n",
    "print \" & \".join(dtclosed.astype(str))"
   ]
  },
  {
   "cell_type": "code",
   "execution_count": 25,
   "metadata": {
    "collapsed": false
   },
   "outputs": [
    {
     "name": "stdout",
     "output_type": "stream",
     "text": [
      "10 & 20 & 30 & 40 & 50 & 60 & 70\n",
      "1.0 & 0.85 & 0.3 & 0.15 & 0.1 & 0.0 & 0.0\n",
      "1.0 & 0.85 & 0.3 & 0.15 & 0.1 & 0.0 & 0.0\n"
     ]
    }
   ],
   "source": [
    "print \" & \".join(dtnTasks.astype(str))\n",
    "print \" & \".join(odsolved.astype(str))\n",
    "print \" & \".join(odclosed.astype(str))"
   ]
  },
  {
   "cell_type": "code",
   "execution_count": null,
   "metadata": {
    "collapsed": true
   },
   "outputs": [],
   "source": []
  }
 ],
 "metadata": {
  "kernelspec": {
   "display_name": "Python 2",
   "language": "python",
   "name": "python2"
  },
  "language_info": {
   "codemirror_mode": {
    "name": "ipython",
    "version": 2
   },
   "file_extension": ".py",
   "mimetype": "text/x-python",
   "name": "python",
   "nbconvert_exporter": "python",
   "pygments_lexer": "ipython2",
   "version": "2.7.11"
  }
 },
 "nbformat": 4,
 "nbformat_minor": 0
}
